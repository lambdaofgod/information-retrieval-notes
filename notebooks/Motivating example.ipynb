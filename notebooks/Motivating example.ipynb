{
 "cells": [
  {
   "cell_type": "markdown",
   "metadata": {},
   "source": [
    "# Motivating example.\n",
    "\n",
    "We're going to define some content so that we can query it."
   ]
  },
  {
   "cell_type": "code",
   "execution_count": 1,
   "metadata": {},
   "outputs": [
    {
     "data": {
      "text/plain": [
       "\u001b[32mimport \u001b[39m\u001b[36m$ivy.$                                    \n",
       "\u001b[39m\n",
       "\u001b[32mimport \u001b[39m\u001b[36m$ivy.$                                       \n",
       "\u001b[39m\n",
       "\u001b[32mimport \u001b[39m\u001b[36m$ivy.$                                           \n",
       "\u001b[39m\n",
       "\u001b[32mimport \u001b[39m\u001b[36m$ivy.$                                                \u001b[39m"
      ]
     },
     "execution_count": 1,
     "metadata": {},
     "output_type": "execute_result"
    }
   ],
   "source": [
    "import $ivy.`org.apache.lucene:lucene-core:7.2.1`\n",
    "import $ivy.`org.apache.lucene:lucene-queries:7.2.1`\n",
    "import $ivy.`org.apache.lucene:lucene-queryparser:7.2.1`\n",
    "import $ivy.`org.apache.lucene:lucene-analyzers-common:7.2.1`"
   ]
  },
  {
   "cell_type": "code",
   "execution_count": 2,
   "metadata": {},
   "outputs": [
    {
     "data": {
      "text/plain": [
       "\u001b[32mimport \u001b[39m\u001b[36morg.apache.lucene.index.{IndexWriter, IndexWriterConfig, DirectoryReader}\n",
       "\u001b[39m\n",
       "\u001b[32mimport \u001b[39m\u001b[36morg.apache.lucene.search.{IndexSearcher}\n",
       "\n",
       "\u001b[39m\n",
       "\u001b[32mimport \u001b[39m\u001b[36morg.apache.lucene.analysis.standard.StandardAnalyzer\n",
       "\u001b[39m\n",
       "\u001b[32mimport \u001b[39m\u001b[36morg.apache.lucene.document.{Document, Field, TextField}\n",
       "\u001b[39m\n",
       "\u001b[32mimport \u001b[39m\u001b[36morg.apache.lucene.queryparser.classic.QueryParser\n",
       "\u001b[39m\n",
       "\u001b[32mimport \u001b[39m\u001b[36morg.apache.lucene.store.RAMDirectory\u001b[39m"
      ]
     },
     "execution_count": 2,
     "metadata": {},
     "output_type": "execute_result"
    }
   ],
   "source": [
    "import org.apache.lucene.index.{IndexWriter, IndexWriterConfig, DirectoryReader}\n",
    "import org.apache.lucene.search.{IndexSearcher}\n",
    "\n",
    "import org.apache.lucene.analysis.standard.StandardAnalyzer\n",
    "import org.apache.lucene.document.{Document, Field, TextField}\n",
    "import org.apache.lucene.queryparser.classic.QueryParser\n",
    "import org.apache.lucene.store.RAMDirectory"
   ]
  },
  {
   "cell_type": "markdown",
   "metadata": {},
   "source": [
    "Let's take a look at contents we're going to store (or *index*, since that's a verb for storing something in index (noun))."
   ]
  },
  {
   "cell_type": "code",
   "execution_count": 3,
   "metadata": {},
   "outputs": [
    {
     "data": {
      "text/plain": [
       "\u001b[36mcontents\u001b[39m: \u001b[32mArray\u001b[39m[\u001b[32mString\u001b[39m] = \u001b[33mArray\u001b[39m(\n",
       "  \u001b[32m\"Humpty Dumpty sat on a wall,\"\u001b[39m,\n",
       "  \u001b[32m\"Humpty Dumpty had a great fall.\"\u001b[39m,\n",
       "  \u001b[32m\"All the king's horses and all the king's men\"\u001b[39m,\n",
       "  \u001b[32m\"Couldn't put Humpty together again.\"\u001b[39m\n",
       ")"
      ]
     },
     "execution_count": 3,
     "metadata": {},
     "output_type": "execute_result"
    }
   ],
   "source": [
    "val contents = Array(\n",
    "  \"Humpty Dumpty sat on a wall,\",\n",
    "  \"Humpty Dumpty had a great fall.\",\n",
    "  \"All the king's horses and all the king's men\",\n",
    "  \"Couldn't put Humpty together again.\"\n",
    ")"
   ]
  },
  {
   "cell_type": "markdown",
   "metadata": {},
   "source": [
    "### Index setup (just ignore it for now)"
   ]
  },
  {
   "cell_type": "code",
   "execution_count": 4,
   "metadata": {},
   "outputs": [
    {
     "data": {
      "text/plain": [
       "\u001b[36manalyzer\u001b[39m: \u001b[32mStandardAnalyzer\u001b[39m = org.apache.lucene.analysis.standard.StandardAnalyzer@5df69cdc\n",
       "\u001b[36mindexWriter\u001b[39m: \u001b[32mIndexWriter\u001b[39m = org.apache.lucene.index.IndexWriter@272e39d8"
      ]
     },
     "execution_count": 4,
     "metadata": {},
     "output_type": "execute_result"
    }
   ],
   "source": [
    "val analyzer = new StandardAnalyzer()\n",
    "val indexWriter = new IndexWriter(\n",
    "  new RAMDirectory(),\n",
    "  new IndexWriterConfig(analyzer))"
   ]
  },
  {
   "cell_type": "markdown",
   "metadata": {},
   "source": [
    "Now we're going to actually add documents to index."
   ]
  },
  {
   "cell_type": "code",
   "execution_count": 5,
   "metadata": {},
   "outputs": [
    {
     "data": {
      "text/plain": [
       "\u001b[36mres4_1\u001b[39m: \u001b[32mLong\u001b[39m = \u001b[32m7L\u001b[39m"
      ]
     },
     "execution_count": 5,
     "metadata": {},
     "output_type": "execute_result"
    }
   ],
   "source": [
    "contents.foreach { content =>\n",
    "  val doc = new Document();\n",
    "  val textField = new TextField(\"content\", content, Field.Store.YES);\n",
    "  \n",
    "  doc.add(textField)\n",
    "  indexWriter.addDocument(doc)\n",
    "}\n",
    "\n",
    "indexWriter.commit()"
   ]
  },
  {
   "cell_type": "markdown",
   "metadata": {},
   "source": [
    "Search setup. Ingore it for now."
   ]
  },
  {
   "cell_type": "code",
   "execution_count": 6,
   "metadata": {},
   "outputs": [
    {
     "data": {
      "text/plain": [
       "\u001b[36mindexSearcher\u001b[39m: \u001b[32mIndexSearcher\u001b[39m = IndexSearcher(StandardDirectoryReader(segments_1:4 _0(7.2.1):c4); executor=null)\n",
       "\u001b[36mqueryParser\u001b[39m: \u001b[32mQueryParser\u001b[39m = org.apache.lucene.queryparser.classic.QueryParser@12f12968"
      ]
     },
     "execution_count": 6,
     "metadata": {},
     "output_type": "execute_result"
    }
   ],
   "source": [
    "val indexSearcher = new IndexSearcher(\n",
    "  DirectoryReader.open(\n",
    "    indexWriter.getDirectory()))\n",
    "val queryParser = new QueryParser(\"content\", analyzer)"
   ]
  },
  {
   "cell_type": "markdown",
   "metadata": {},
   "source": [
    "Setting up query. Set `queryString` for something you wish to search for."
   ]
  },
  {
   "cell_type": "code",
   "execution_count": 16,
   "metadata": {},
   "outputs": [
    {
     "data": {
      "text/plain": [
       "\u001b[36mqueryString\u001b[39m: \u001b[32mString\u001b[39m = \u001b[32m\"humpty dumpty\"\u001b[39m\n",
       "\u001b[36mquery\u001b[39m: \u001b[32morg\u001b[39m.\u001b[32mapache\u001b[39m.\u001b[32mlucene\u001b[39m.\u001b[32msearch\u001b[39m.\u001b[32mQuery\u001b[39m = content:humpty content:dumpty\n",
       "\u001b[36mmaxNoResults\u001b[39m: \u001b[32mInt\u001b[39m = \u001b[32m5\u001b[39m\n",
       "\u001b[36mtopDocs\u001b[39m: \u001b[32morg\u001b[39m.\u001b[32mapache\u001b[39m.\u001b[32mlucene\u001b[39m.\u001b[32msearch\u001b[39m.\u001b[32mTopDocs\u001b[39m = org.apache.lucene.search.TopDocs@12d45100"
      ]
     },
     "execution_count": 16,
     "metadata": {},
     "output_type": "execute_result"
    }
   ],
   "source": [
    "val queryString = \"humpty dumpty\"\n",
    "val query = queryParser.parse(queryString)\n",
    "val maxNoResults = 5\n",
    "\n",
    "val topDocs = indexSearcher.search(query, maxNoResults)"
   ]
  },
  {
   "cell_type": "markdown",
   "metadata": {},
   "source": [
    "Return query results, sorted by score"
   ]
  },
  {
   "cell_type": "code",
   "execution_count": 17,
   "metadata": {},
   "outputs": [
    {
     "name": "stdout",
     "output_type": "stream",
     "text": [
      "Total hits: 3\n",
      "1.1433706: Humpty Dumpty sat on a wall,\n",
      "1.0498221: Humpty Dumpty had a great fall.\n",
      "0.35667494: Couldn't put Humpty together again.\n"
     ]
    }
   ],
   "source": [
    "println(\"Total hits: \" + topDocs.totalHits)\n",
    "\n",
    "topDocs.scoreDocs.foreach { scoreDoc =>\n",
    "    val doc = indexSearcher.doc(scoreDoc.doc)\n",
    "    println(scoreDoc.score + \": \" + doc.getField(\"content\").stringValue())\n",
    "}"
   ]
  },
  {
   "cell_type": "markdown",
   "metadata": {},
   "source": [
    "What just happened? What are these numbers?\n",
    "\n",
    "We're going to look at this in the following notebooks. "
   ]
  }
 ],
 "metadata": {
  "hide_input": false,
  "kernelspec": {
   "display_name": "Scala",
   "language": "scala",
   "name": "scala"
  },
  "language_info": {
   "codemirror_mode": "text/x-scala",
   "file_extension": ".scala",
   "mimetype": "text/x-scala",
   "name": "scala211",
   "nbconvert_exporter": "script",
   "pygments_lexer": "scala",
   "version": "2.11.11"
  }
 },
 "nbformat": 4,
 "nbformat_minor": 2
}
