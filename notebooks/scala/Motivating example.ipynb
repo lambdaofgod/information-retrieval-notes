{
 "cells": [
  {
   "cell_type": "markdown",
   "metadata": {},
   "source": [
    "# Motivating example.\n",
    "\n",
    "We're going to define some content so that we can query it."
   ]
  },
  {
   "cell_type": "code",
   "execution_count": 1,
   "metadata": {},
   "outputs": [],
   "source": [
    "import lucene\n",
    "\n",
    "from org.apache.lucene.analysis.standard import StandardAnalyzer\n",
    "from org.apache.lucene.index import IndexWriter, IndexWriterConfig, DirectoryReader\n",
    "from org.apache.lucene.store import RAMDirectory\n",
    "from org.apache.lucene.document import Document, Field, TextField\n",
    "\n",
    "from org.apache.lucene.index import DirectoryReader\n",
    "from org.apache.lucene.queryparser.classic import QueryParser\n",
    "from org.apache.lucene.search import IndexSearcher"
   ]
  },
  {
   "cell_type": "code",
   "execution_count": 2,
   "metadata": {},
   "outputs": [],
   "source": [
    "env = lucene.initVM()"
   ]
  },
  {
   "cell_type": "markdown",
   "metadata": {},
   "source": [
    "Let's take a look at contents we're going to store (or *index*, since that's a verb for storing something in index (noun))."
   ]
  },
  {
   "cell_type": "code",
   "execution_count": 3,
   "metadata": {},
   "outputs": [],
   "source": [
    "contents = [\n",
    "  \"Humpty Dumpty sat on a wall,\",\n",
    "  \"Humpty Dumpty had a great fall.\",\n",
    "  \"All the king's horses and all the king's men\",\n",
    "  \"Couldn't put Humpty together again.\"\n",
    "]"
   ]
  },
  {
   "cell_type": "markdown",
   "metadata": {},
   "source": [
    "### Index setup (just ignore it for now)"
   ]
  },
  {
   "cell_type": "code",
   "execution_count": 4,
   "metadata": {},
   "outputs": [],
   "source": [
    "analyzer = StandardAnalyzer()\n",
    "index_writer = IndexWriter(\n",
    "    RAMDirectory(),\n",
    "    IndexWriterConfig(analyzer)\n",
    ")"
   ]
  },
  {
   "cell_type": "markdown",
   "metadata": {},
   "source": [
    "Now we're going to actually add documents to index."
   ]
  },
  {
   "cell_type": "code",
   "execution_count": 5,
   "metadata": {},
   "outputs": [],
   "source": [
    "for content in contents:\n",
    "    doc = Document()\n",
    "    \n",
    "    field = TextField(\"content\", content, Field.Store.YES)\n",
    "    \n",
    "    doc.add(field)\n",
    "    \n",
    "    index_writer.addDocument(doc)"
   ]
  },
  {
   "cell_type": "code",
   "execution_count": 6,
   "metadata": {},
   "outputs": [
    {
     "data": {
      "text/plain": [
       "7"
      ]
     },
     "execution_count": 6,
     "metadata": {},
     "output_type": "execute_result"
    }
   ],
   "source": [
    "index_writer.commit()"
   ]
  },
  {
   "cell_type": "markdown",
   "metadata": {},
   "source": [
    "Search setup. Ingore it for now."
   ]
  },
  {
   "cell_type": "code",
   "execution_count": 7,
   "metadata": {},
   "outputs": [],
   "source": [
    "index_searcher = IndexSearcher(\n",
    "  DirectoryReader.open(\n",
    "    index_writer.getDirectory()))\n",
    "query_parser = QueryParser(\"content\", analyzer)"
   ]
  },
  {
   "cell_type": "markdown",
   "metadata": {},
   "source": [
    "Setting up query. Set `queryString` for something you wish to search for."
   ]
  },
  {
   "cell_type": "code",
   "execution_count": 8,
   "metadata": {},
   "outputs": [],
   "source": [
    "query_string = \"humpty dumpty\"\n",
    "query = query_parser.parse(query_string)\n",
    "maxNoResults = 5\n",
    "\n",
    "top_docs = index_searcher.search(query, maxNoResults)"
   ]
  },
  {
   "cell_type": "markdown",
   "metadata": {},
   "source": [
    "Return query results, sorted by score"
   ]
  },
  {
   "cell_type": "code",
   "execution_count": 10,
   "metadata": {
    "scrolled": true
   },
   "outputs": [
    {
     "name": "stdout",
     "output_type": "stream",
     "text": [
      "Total hits: 3\n",
      "1.1433706283569336: Humpty Dumpty sat on a wall,\n",
      "1.0308873653411865: Humpty Dumpty had a great fall.\n",
      "0.35024189949035645: Couldn't put Humpty together again.\n"
     ]
    }
   ],
   "source": [
    "print(\"Total hits: \" + str(top_docs.totalHits))\n",
    "\n",
    "for score_doc in top_docs.scoreDocs:\n",
    "    doc = index_searcher.doc(score_doc.doc)\n",
    "    print(str(score_doc.score) + \": \" + doc.getField('content').stringValue())"
   ]
  },
  {
   "cell_type": "markdown",
   "metadata": {},
   "source": [
    "What just happened? What are these numbers?\n",
    "\n",
    "We're going to look at this in the following notebooks. "
   ]
  }
 ],
 "metadata": {
  "hide_input": false,
  "kernelspec": {
   "display_name": "Python 3",
   "language": "python",
   "name": "python3"
  },
  "language_info": {
   "codemirror_mode": {
    "name": "ipython",
    "version": 3
   },
   "file_extension": ".py",
   "mimetype": "text/x-python",
   "name": "python",
   "nbconvert_exporter": "python",
   "pygments_lexer": "ipython3",
   "version": "3.6.4"
  }
 },
 "nbformat": 4,
 "nbformat_minor": 2
}
